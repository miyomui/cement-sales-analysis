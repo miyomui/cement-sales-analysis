{
  "cells": [
    {
      "cell_type": "markdown",
      "metadata": {
        "id": "TjOkZOCa7v71"
      },
      "source": [
        "# 🧩 SQL Query Analysis Summary\n",
        "This notebook contains five SQL queries used to extract key business insights from the cement production dataset.\n",
        "Each query is designed to support different aspects of factory performance analysis and Power BI dashboard visualization."
      ]
    },
    {
      "cell_type": "code",
      "execution_count": 2,
      "metadata": {},
      "outputs": [
        {
          "name": "stdout",
          "output_type": "stream",
          "text": [
            "Successfully connected to database: ..\\data\\processed\\cement_factory.db\n"
          ]
        }
      ],
      "source": [
        "import pandas as pd\n",
        "import sqlite3\n",
        "from pathlib import Path\n",
        "\n",
        "DB_PATH = Path(\"../data/processed/cement_factory.db\")\n",
        "\n",
        "conn = None\n",
        "try:\n",
        "    conn = sqlite3.connect(DB_PATH)\n",
        "    print(f\"Successfully connected to database: {DB_PATH}\")\n",
        "except Exception as e:\n",
        "    print(f\"ERROR connecting to database: {e}\")\n",
        "\n",
        "\n",
        "def load_sql_query(filename: str) -> str:\n",
        "    \"\"\"Loads SQL query text from the sql_queries folder.\"\"\"\n",
        "    query_path = Path(\"../sql_queries\") / filename\n",
        "    query_text = \"\"\n",
        "    try:\n",
        "        with open(query_path, 'r', encoding='utf-8') as f:\n",
        "            query_text = f.read()\n",
        "    except FileNotFoundError:\n",
        "        print(f\"ERROR: SQL file not found at {query_path}\")\n",
        "    except Exception as e:\n",
        "        print(f\"ERROR reading SQL file {filename}: {e}\")\n",
        "    return query_text"
      ]
    },
    {
      "cell_type": "markdown",
      "metadata": {
        "id": "kW-P-bnz79-k"
      },
      "source": [
        "# 1. KPI Efficiency `kpi_efficiency.csv`\n",
        "\n",
        "**Purpose:**  \n",
        "Calculate the monthly average of production efficiency and demand fulfillment rates.\n",
        "\n",
        "**Formulas:**  \n",
        "- `Efficiency = Sales ÷ Production`  \n",
        "- `Fulfillment = Sales ÷ Demand`  \n",
        "\n",
        "**Insight:**  \n",
        "Shows whether the factory consistently meets production targets and market demand.  \n",
        "- Low Efficiency → production shortfall or equipment downtime  \n",
        "- Low Fulfillment → weak market response or supply chain issue  "
      ]
    },
    {
      "cell_type": "code",
      "execution_count": 12,
      "metadata": {
        "colab": {
          "base_uri": "https://localhost:8080/",
          "height": 224
        },
        "id": "64pvtpzMptGN",
        "outputId": "6bcc2040-6967-4360-b0f1-d5f5e7128621"
      },
      "outputs": [
        {
          "name": "stdout",
          "output_type": "stream",
          "text": [
            "\n",
            "--- Running Query 1: KPI Efficiency ---\n",
            " -> Query executed successfully.\n"
          ]
        },
        {
          "data": {
            "text/html": [
              "<div>\n",
              "<style scoped>\n",
              "    .dataframe tbody tr th:only-of-type {\n",
              "        vertical-align: middle;\n",
              "    }\n",
              "\n",
              "    .dataframe tbody tr th {\n",
              "        vertical-align: top;\n",
              "    }\n",
              "\n",
              "    .dataframe thead th {\n",
              "        text-align: right;\n",
              "    }\n",
              "</style>\n",
              "<table border=\"1\" class=\"dataframe\">\n",
              "  <thead>\n",
              "    <tr style=\"text-align: right;\">\n",
              "      <th></th>\n",
              "      <th>period</th>\n",
              "      <th>avg_efficiency</th>\n",
              "      <th>avg_fulfillment</th>\n",
              "    </tr>\n",
              "  </thead>\n",
              "  <tbody>\n",
              "    <tr>\n",
              "      <th>0</th>\n",
              "      <td>2010-01</td>\n",
              "      <td>92.80</td>\n",
              "      <td>93.06</td>\n",
              "    </tr>\n",
              "    <tr>\n",
              "      <th>1</th>\n",
              "      <td>2010-02</td>\n",
              "      <td>93.14</td>\n",
              "      <td>84.32</td>\n",
              "    </tr>\n",
              "    <tr>\n",
              "      <th>2</th>\n",
              "      <td>2010-03</td>\n",
              "      <td>103.81</td>\n",
              "      <td>88.77</td>\n",
              "    </tr>\n",
              "    <tr>\n",
              "      <th>3</th>\n",
              "      <td>2010-04</td>\n",
              "      <td>90.60</td>\n",
              "      <td>86.53</td>\n",
              "    </tr>\n",
              "    <tr>\n",
              "      <th>4</th>\n",
              "      <td>2010-05</td>\n",
              "      <td>97.64</td>\n",
              "      <td>92.63</td>\n",
              "    </tr>\n",
              "  </tbody>\n",
              "</table>\n",
              "</div>"
            ],
            "text/plain": [
              "    period  avg_efficiency  avg_fulfillment\n",
              "0  2010-01           92.80            93.06\n",
              "1  2010-02           93.14            84.32\n",
              "2  2010-03          103.81            88.77\n",
              "3  2010-04           90.60            86.53\n",
              "4  2010-05           97.64            92.63"
            ]
          },
          "metadata": {},
          "output_type": "display_data"
        },
        {
          "name": "stdout",
          "output_type": "stream",
          "text": [
            " -> Result saved to: kpi_efficiency.csv\n"
          ]
        }
      ],
      "source": [
        "# === Query 1: KPI Efficiency ===\n",
        "print(\"\\n--- Running Query 1: KPI Efficiency ---\")\n",
        "query_file = \"kpi_efficiency.sql\"\n",
        "sql = load_sql_query(query_file)\n",
        "\n",
        "if conn and sql:\n",
        "    try:\n",
        "        result_df = pd.read_sql_query(sql, conn)\n",
        "        print(\" -> Query executed successfully.\")\n",
        "        display(result_df.head())\n",
        "\n",
        "\n",
        "        output_path = output_folder / \"kpi_efficiency.csv\"\n",
        "        result_df.to_csv(output_path, index=False, encoding=\"utf-8-sig\")\n",
        "        print(f\" -> Result saved to: {output_path.name}\")\n",
        "\n",
        "    except Exception as e:\n",
        "        print(f\"ERROR executing/saving query {query_file}: {e}\")\n",
        "elif not conn:\n",
        "     print(\"   Skipping query: Database connection not available.\")\n",
        "else:\n",
        "     print(f\"   Skipping query: Could not read SQL from {query_file}.\")"
      ]
    },
    {
      "cell_type": "markdown",
      "metadata": {
        "id": "vUSe6H-98flr"
      },
      "source": [
        "# 2. Yearly Summary `yearly_summary.csv`\n",
        "\n",
        "**Purpose:**  \n",
        "Summarize annual totals for production, sales, and average efficiency.  \n",
        "\n",
        "**Insight:**  \n",
        "Helps compare performance across years and evaluate long-term production trends.  \n",
        "It highlights which years the factory performed best and which years need improvement."
      ]
    },
    {
      "cell_type": "code",
      "execution_count": 13,
      "metadata": {
        "colab": {
          "base_uri": "https://localhost:8080/",
          "height": 224
        },
        "id": "GcfQUcDLqX54",
        "outputId": "2541451a-4992-47d3-898a-de2e7082f257"
      },
      "outputs": [
        {
          "name": "stdout",
          "output_type": "stream",
          "text": [
            "\n",
            "--- Running Query 2: Yearly Summary---\n",
            " -> Query executed successfully.\n"
          ]
        },
        {
          "data": {
            "text/html": [
              "<div>\n",
              "<style scoped>\n",
              "    .dataframe tbody tr th:only-of-type {\n",
              "        vertical-align: middle;\n",
              "    }\n",
              "\n",
              "    .dataframe tbody tr th {\n",
              "        vertical-align: top;\n",
              "    }\n",
              "\n",
              "    .dataframe thead th {\n",
              "        text-align: right;\n",
              "    }\n",
              "</style>\n",
              "<table border=\"1\" class=\"dataframe\">\n",
              "  <thead>\n",
              "    <tr style=\"text-align: right;\">\n",
              "      <th></th>\n",
              "      <th>year</th>\n",
              "      <th>total_production</th>\n",
              "      <th>total_sales</th>\n",
              "      <th>avg_efficiency</th>\n",
              "      <th>avg_fulfillment</th>\n",
              "    </tr>\n",
              "  </thead>\n",
              "  <tbody>\n",
              "    <tr>\n",
              "      <th>0</th>\n",
              "      <td>2010</td>\n",
              "      <td>3182.0</td>\n",
              "      <td>3019.0</td>\n",
              "      <td>95.74</td>\n",
              "      <td>92.35</td>\n",
              "    </tr>\n",
              "    <tr>\n",
              "      <th>1</th>\n",
              "      <td>2011</td>\n",
              "      <td>4013.0</td>\n",
              "      <td>3780.0</td>\n",
              "      <td>94.76</td>\n",
              "      <td>95.86</td>\n",
              "    </tr>\n",
              "    <tr>\n",
              "      <th>2</th>\n",
              "      <td>2012</td>\n",
              "      <td>4621.0</td>\n",
              "      <td>4525.0</td>\n",
              "      <td>98.09</td>\n",
              "      <td>97.32</td>\n",
              "    </tr>\n",
              "    <tr>\n",
              "      <th>3</th>\n",
              "      <td>2013</td>\n",
              "      <td>5272.0</td>\n",
              "      <td>5132.0</td>\n",
              "      <td>96.66</td>\n",
              "      <td>99.36</td>\n",
              "    </tr>\n",
              "    <tr>\n",
              "      <th>4</th>\n",
              "      <td>2014</td>\n",
              "      <td>5327.0</td>\n",
              "      <td>5197.0</td>\n",
              "      <td>97.80</td>\n",
              "      <td>100.15</td>\n",
              "    </tr>\n",
              "  </tbody>\n",
              "</table>\n",
              "</div>"
            ],
            "text/plain": [
              "   year  total_production  total_sales  avg_efficiency  avg_fulfillment\n",
              "0  2010            3182.0       3019.0           95.74            92.35\n",
              "1  2011            4013.0       3780.0           94.76            95.86\n",
              "2  2012            4621.0       4525.0           98.09            97.32\n",
              "3  2013            5272.0       5132.0           96.66            99.36\n",
              "4  2014            5327.0       5197.0           97.80           100.15"
            ]
          },
          "metadata": {},
          "output_type": "display_data"
        },
        {
          "name": "stdout",
          "output_type": "stream",
          "text": [
            " -> Result saved to: yearly_summary.csv\n"
          ]
        }
      ],
      "source": [
        "# === Query 2: Yearly Summary ===\n",
        "print(\"\\n--- Running Query 2: Yearly Summary---\")\n",
        "query_file = \"yearly_summary.sql\"\n",
        "sql = load_sql_query(query_file)\n",
        "\n",
        "if conn and sql:\n",
        "    try:\n",
        "        result_df = pd.read_sql_query(sql, conn)\n",
        "        print(\" -> Query executed successfully.\")\n",
        "        display(result_df.head())\n",
        "\n",
        "\n",
        "        output_path = output_folder / \"yearly_summary.csv\"\n",
        "        result_df.to_csv(output_path, index=False, encoding=\"utf-8-sig\")\n",
        "        print(f\" -> Result saved to: {output_path.name}\")\n",
        "\n",
        "    except Exception as e:\n",
        "        print(f\"ERROR executing/saving query {query_file}: {e}\")\n",
        "elif not conn:\n",
        "     print(\"   Skipping query: Database connection not available.\")\n",
        "else:\n",
        "     print(f\"   Skipping query: Could not read SQL from {query_file}.\")"
      ]
    },
    {
      "cell_type": "markdown",
      "metadata": {
        "id": "AzQQq90p8uAA"
      },
      "source": [
        "# 3. GDP Correlation `gdp_correlation.csv`\n",
        "\n",
        "**Purpose:**  \n",
        "Evaluate the statistical relationship between economic factors (GDP, Interest Rate) and cement sales.\n",
        "\n",
        "**Insight:**  \n",
        "- **Positive correlation** between GDP and sales → sales grow with economic expansion  \n",
        "- **Negative correlation** between interest rate and sales → high interest rates slow down housing demand"
      ]
    },
    {
      "cell_type": "code",
      "execution_count": 14,
      "metadata": {
        "colab": {
          "base_uri": "https://localhost:8080/",
          "height": 98
        },
        "id": "ZssNkePvrb9s",
        "outputId": "0e5c7d07-cf30-4133-8bd1-11776adec5e8"
      },
      "outputs": [
        {
          "name": "stdout",
          "output_type": "stream",
          "text": [
            "\n",
            "--- Running Query 3: GDP Correlation---\n",
            " -> Query executed successfully.\n"
          ]
        },
        {
          "data": {
            "text/html": [
              "<div>\n",
              "<style scoped>\n",
              "    .dataframe tbody tr th:only-of-type {\n",
              "        vertical-align: middle;\n",
              "    }\n",
              "\n",
              "    .dataframe tbody tr th {\n",
              "        vertical-align: top;\n",
              "    }\n",
              "\n",
              "    .dataframe thead th {\n",
              "        text-align: right;\n",
              "    }\n",
              "</style>\n",
              "<table border=\"1\" class=\"dataframe\">\n",
              "  <thead>\n",
              "    <tr style=\"text-align: right;\">\n",
              "      <th></th>\n",
              "      <th>corr_gdp_sales</th>\n",
              "      <th>corr_interest_sales</th>\n",
              "    </tr>\n",
              "  </thead>\n",
              "  <tbody>\n",
              "    <tr>\n",
              "      <th>0</th>\n",
              "      <td>0.584</td>\n",
              "      <td>-0.331</td>\n",
              "    </tr>\n",
              "  </tbody>\n",
              "</table>\n",
              "</div>"
            ],
            "text/plain": [
              "   corr_gdp_sales  corr_interest_sales\n",
              "0           0.584               -0.331"
            ]
          },
          "metadata": {},
          "output_type": "display_data"
        },
        {
          "name": "stdout",
          "output_type": "stream",
          "text": [
            " -> Result saved to: gdp_correlation.csv\n"
          ]
        }
      ],
      "source": [
        "# === Query 3: GDP Correlation ===\n",
        "print(\"\\n--- Running Query 3: GDP Correlation---\")\n",
        "query_file = \"gdp_correlation.sql\"\n",
        "sql = load_sql_query(query_file)\n",
        "\n",
        "if conn and sql:\n",
        "    try:\n",
        "        result_df = pd.read_sql_query(sql, conn)\n",
        "        print(\" -> Query executed successfully.\")\n",
        "        display(result_df.head())\n",
        "\n",
        "\n",
        "        output_path = output_folder / \"gdp_correlation.csv\"\n",
        "        result_df.to_csv(output_path, index=False, encoding=\"utf-8-sig\")\n",
        "        print(f\" -> Result saved to: {output_path.name}\")\n",
        "\n",
        "    except Exception as e:\n",
        "        print(f\"ERROR executing/saving query {query_file}: {e}\")\n",
        "elif not conn:\n",
        "     print(\"   Skipping query: Database connection not available.\")\n",
        "else:\n",
        "     print(f\"   Skipping query: Could not read SQL from {query_file}.\")"
      ]
    },
    {
      "cell_type": "markdown",
      "metadata": {
        "id": "Gf_bMYPm9AxQ"
      },
      "source": [
        "# 4. Low Efficiency `low_efficiency.csv`\n",
        "\n",
        "**Purpose:**  \n",
        "Identify months where production efficiency fell below 90%.  \n",
        "\n",
        "**Insight:**  \n",
        "These months may correspond to machine downtime, supply chain delays, or operational inefficiencies.  \n",
        "Helps maintenance teams plan predictive maintenance and reduce future losses.\n"
      ]
    },
    {
      "cell_type": "code",
      "execution_count": 15,
      "metadata": {
        "colab": {
          "base_uri": "https://localhost:8080/",
          "height": 224
        },
        "id": "EFL-PSgqroEa",
        "outputId": "6edc3089-469d-4eda-aa96-3f255009b880"
      },
      "outputs": [
        {
          "name": "stdout",
          "output_type": "stream",
          "text": [
            "\n",
            "--- Running Query 4: Low Efficiency--\n",
            " -> Query executed successfully.\n"
          ]
        },
        {
          "data": {
            "text/html": [
              "<div>\n",
              "<style scoped>\n",
              "    .dataframe tbody tr th:only-of-type {\n",
              "        vertical-align: middle;\n",
              "    }\n",
              "\n",
              "    .dataframe tbody tr th {\n",
              "        vertical-align: top;\n",
              "    }\n",
              "\n",
              "    .dataframe thead th {\n",
              "        text-align: right;\n",
              "    }\n",
              "</style>\n",
              "<table border=\"1\" class=\"dataframe\">\n",
              "  <thead>\n",
              "    <tr style=\"text-align: right;\">\n",
              "      <th></th>\n",
              "      <th>month</th>\n",
              "      <th>production</th>\n",
              "      <th>sales</th>\n",
              "      <th>efficiency_percent</th>\n",
              "    </tr>\n",
              "  </thead>\n",
              "  <tbody>\n",
              "    <tr>\n",
              "      <th>0</th>\n",
              "      <td>2019-05-01 00:00:00</td>\n",
              "      <td>369.0</td>\n",
              "      <td>195.0</td>\n",
              "      <td>52.85</td>\n",
              "    </tr>\n",
              "    <tr>\n",
              "      <th>1</th>\n",
              "      <td>2019-06-01 00:00:00</td>\n",
              "      <td>323.0</td>\n",
              "      <td>200.0</td>\n",
              "      <td>61.92</td>\n",
              "    </tr>\n",
              "    <tr>\n",
              "      <th>2</th>\n",
              "      <td>2019-04-01 00:00:00</td>\n",
              "      <td>464.0</td>\n",
              "      <td>311.0</td>\n",
              "      <td>67.03</td>\n",
              "    </tr>\n",
              "    <tr>\n",
              "      <th>3</th>\n",
              "      <td>2019-11-01 00:00:00</td>\n",
              "      <td>771.0</td>\n",
              "      <td>531.0</td>\n",
              "      <td>68.87</td>\n",
              "    </tr>\n",
              "    <tr>\n",
              "      <th>4</th>\n",
              "      <td>2019-07-01 00:00:00</td>\n",
              "      <td>360.0</td>\n",
              "      <td>256.0</td>\n",
              "      <td>71.11</td>\n",
              "    </tr>\n",
              "  </tbody>\n",
              "</table>\n",
              "</div>"
            ],
            "text/plain": [
              "                 month  production  sales  efficiency_percent\n",
              "0  2019-05-01 00:00:00       369.0  195.0               52.85\n",
              "1  2019-06-01 00:00:00       323.0  200.0               61.92\n",
              "2  2019-04-01 00:00:00       464.0  311.0               67.03\n",
              "3  2019-11-01 00:00:00       771.0  531.0               68.87\n",
              "4  2019-07-01 00:00:00       360.0  256.0               71.11"
            ]
          },
          "metadata": {},
          "output_type": "display_data"
        },
        {
          "name": "stdout",
          "output_type": "stream",
          "text": [
            " -> Result saved to: low_efficiency.csv\n"
          ]
        }
      ],
      "source": [
        "# === Query 4: Low Efficiency ===\n",
        "print(\"\\n--- Running Query 4: Low Efficiency--\")\n",
        "query_file = \"low_efficiency.sql\"\n",
        "sql = load_sql_query(query_file)\n",
        "\n",
        "if conn and sql:\n",
        "    try:\n",
        "        result_df = pd.read_sql_query(sql, conn)\n",
        "        print(\" -> Query executed successfully.\")\n",
        "        display(result_df.head())\n",
        "\n",
        "\n",
        "        output_path = output_folder / \"low_efficiency.csv\"\n",
        "        result_df.to_csv(output_path, index=False, encoding=\"utf-8-sig\")\n",
        "        print(f\" -> Result saved to: {output_path.name}\")\n",
        "\n",
        "    except Exception as e:\n",
        "        print(f\"ERROR executing/saving query {query_file}: {e}\")\n",
        "elif not conn:\n",
        "     print(\"   Skipping query: Database connection not available.\")\n",
        "else:\n",
        "     print(f\"   Skipping query: Could not read SQL from {query_file}.\")"
      ]
    },
    {
      "cell_type": "markdown",
      "metadata": {
        "id": "KKo2LYUq9Mpc"
      },
      "source": [
        "# 5. Production Gap `production_gap.csv`\n",
        "\n",
        "**Purpose:**  \n",
        "Calculate the average difference between produced and sold quantities per month.\n",
        "\n",
        "**Formula:**  \n",
        "`Production Gap = Production − Sales`\n",
        "\n",
        "**Insight:**  \n",
        "Shows inventory or stock buildup patterns.  \n",
        "- Positive Gap → overproduction (stock increase)  \n",
        "- Negative Gap → sales exceeding production (stock depletion)"
      ]
    },
    {
      "cell_type": "code",
      "execution_count": 17,
      "metadata": {
        "colab": {
          "base_uri": "https://localhost:8080/",
          "height": 224
        },
        "id": "kGsUrKA7rwEa",
        "outputId": "37df0904-d18c-4df4-c17d-6e6d1ddaaf5d"
      },
      "outputs": [
        {
          "name": "stdout",
          "output_type": "stream",
          "text": [
            "\n",
            "--- Running Query 5: Production Gap --\n",
            " -> Query executed successfully.\n"
          ]
        },
        {
          "data": {
            "text/html": [
              "<div>\n",
              "<style scoped>\n",
              "    .dataframe tbody tr th:only-of-type {\n",
              "        vertical-align: middle;\n",
              "    }\n",
              "\n",
              "    .dataframe tbody tr th {\n",
              "        vertical-align: top;\n",
              "    }\n",
              "\n",
              "    .dataframe thead th {\n",
              "        text-align: right;\n",
              "    }\n",
              "</style>\n",
              "<table border=\"1\" class=\"dataframe\">\n",
              "  <thead>\n",
              "    <tr style=\"text-align: right;\">\n",
              "      <th></th>\n",
              "      <th>period</th>\n",
              "      <th>avg_production_gap</th>\n",
              "    </tr>\n",
              "  </thead>\n",
              "  <tbody>\n",
              "    <tr>\n",
              "      <th>0</th>\n",
              "      <td>2010-01</td>\n",
              "      <td>25.0</td>\n",
              "    </tr>\n",
              "    <tr>\n",
              "      <th>1</th>\n",
              "      <td>2010-02</td>\n",
              "      <td>21.0</td>\n",
              "    </tr>\n",
              "    <tr>\n",
              "      <th>2</th>\n",
              "      <td>2010-03</td>\n",
              "      <td>-9.0</td>\n",
              "    </tr>\n",
              "    <tr>\n",
              "      <th>3</th>\n",
              "      <td>2010-04</td>\n",
              "      <td>22.0</td>\n",
              "    </tr>\n",
              "    <tr>\n",
              "      <th>4</th>\n",
              "      <td>2010-05</td>\n",
              "      <td>7.0</td>\n",
              "    </tr>\n",
              "  </tbody>\n",
              "</table>\n",
              "</div>"
            ],
            "text/plain": [
              "    period  avg_production_gap\n",
              "0  2010-01                25.0\n",
              "1  2010-02                21.0\n",
              "2  2010-03                -9.0\n",
              "3  2010-04                22.0\n",
              "4  2010-05                 7.0"
            ]
          },
          "metadata": {},
          "output_type": "display_data"
        },
        {
          "name": "stdout",
          "output_type": "stream",
          "text": [
            " -> Result saved to: production_gap.csv\n"
          ]
        }
      ],
      "source": [
        "# === Query 5: Low Efficiency ===\n",
        "print(\"\\n--- Running Query 5: Production Gap --\")\n",
        "query_file = \"production_gap.sql\"\n",
        "sql = load_sql_query(query_file)\n",
        "\n",
        "if conn and sql:\n",
        "    try:\n",
        "        result_df = pd.read_sql_query(sql, conn)\n",
        "        print(\" -> Query executed successfully.\")\n",
        "        display(result_df.head())\n",
        "\n",
        "\n",
        "        output_path = output_folder / \"production_gap.csv\"\n",
        "        result_df.to_csv(output_path, index=False, encoding=\"utf-8-sig\")\n",
        "        print(f\" -> Result saved to: {output_path.name}\")\n",
        "\n",
        "    except Exception as e:\n",
        "        print(f\"ERROR executing/saving query {query_file}: {e}\")\n",
        "elif not conn:\n",
        "     print(\"   Skipping query: Database connection not available.\")\n",
        "else:\n",
        "     print(f\"   Skipping query: Could not read SQL from {query_file}.\")"
      ]
    }
  ],
  "metadata": {
    "colab": {
      "provenance": []
    },
    "kernelspec": {
      "display_name": "Python 3",
      "language": "python",
      "name": "python3"
    },
    "language_info": {
      "codemirror_mode": {
        "name": "ipython",
        "version": 3
      },
      "file_extension": ".py",
      "mimetype": "text/x-python",
      "name": "python",
      "nbconvert_exporter": "python",
      "pygments_lexer": "ipython3",
      "version": "3.14.0"
    }
  },
  "nbformat": 4,
  "nbformat_minor": 0
}
